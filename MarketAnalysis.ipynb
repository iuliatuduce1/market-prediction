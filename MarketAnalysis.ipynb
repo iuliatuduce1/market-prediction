{
 "cells": [
  {
   "cell_type": "markdown",
   "source": [
    "\n",
    "\n",
    "**A simple stock market prediction using decison tree**\n",
    "\n",
    "# Importing the necessary libraries"
   ],
   "metadata": {
    "collapsed": false
   }
  },
  {
   "cell_type": "code",
   "execution_count": null,
   "metadata": {
    "collapsed": true,
    "is_executing": true
   },
   "outputs": [],
   "source": [
    "import pandas as pd\n",
    "import numpy as np\n",
    "import matplotlib.pyplot as plt"
   ]
  },
  {
   "cell_type": "markdown",
   "source": [
    "# Reading and visualising the data"
   ],
   "metadata": {
    "collapsed": false
   }
  },
  {
   "cell_type": "code",
   "execution_count": null,
   "outputs": [],
   "source": [
    "df = pd.read_csv('apple_stocks.csv')"
   ],
   "metadata": {
    "collapsed": false,
    "is_executing": true
   }
  },
  {
   "cell_type": "code",
   "execution_count": 8,
   "outputs": [
    {
     "name": "stdout",
     "output_type": "stream",
     "text": [
      "<class 'pandas.core.frame.DataFrame'>\n",
      "RangeIndex: 619040 entries, 0 to 619039\n",
      "Data columns (total 7 columns):\n",
      " #   Column  Non-Null Count   Dtype  \n",
      "---  ------  --------------   -----  \n",
      " 0   date    619040 non-null  object \n",
      " 1   open    619029 non-null  float64\n",
      " 2   high    619032 non-null  float64\n",
      " 3   low     619032 non-null  float64\n",
      " 4   close   619040 non-null  float64\n",
      " 5   volume  619040 non-null  int64  \n",
      " 6   Name    619040 non-null  object \n",
      "dtypes: float64(4), int64(1), object(2)\n",
      "memory usage: 33.1+ MB\n"
     ]
    }
   ],
   "source": [
    "df.info()"
   ],
   "metadata": {
    "collapsed": false,
    "ExecuteTime": {
     "end_time": "2024-01-04T15:14:41.649368Z",
     "start_time": "2024-01-04T15:14:41.554620500Z"
    }
   }
  },
  {
   "cell_type": "code",
   "execution_count": 9,
   "outputs": [
    {
     "data": {
      "text/plain": "         date   open   high    low  close    volume Name\n0  2013-02-08  15.07  15.12  14.63  14.75   8407500  AAL\n1  2013-02-11  14.89  15.01  14.26  14.46   8882000  AAL\n2  2013-02-12  14.45  14.51  14.10  14.27   8126000  AAL\n3  2013-02-13  14.30  14.94  14.25  14.66  10259500  AAL\n4  2013-02-14  14.94  14.96  13.16  13.99  31879900  AAL",
      "text/html": "<div>\n<style scoped>\n    .dataframe tbody tr th:only-of-type {\n        vertical-align: middle;\n    }\n\n    .dataframe tbody tr th {\n        vertical-align: top;\n    }\n\n    .dataframe thead th {\n        text-align: right;\n    }\n</style>\n<table border=\"1\" class=\"dataframe\">\n  <thead>\n    <tr style=\"text-align: right;\">\n      <th></th>\n      <th>date</th>\n      <th>open</th>\n      <th>high</th>\n      <th>low</th>\n      <th>close</th>\n      <th>volume</th>\n      <th>Name</th>\n    </tr>\n  </thead>\n  <tbody>\n    <tr>\n      <th>0</th>\n      <td>2013-02-08</td>\n      <td>15.07</td>\n      <td>15.12</td>\n      <td>14.63</td>\n      <td>14.75</td>\n      <td>8407500</td>\n      <td>AAL</td>\n    </tr>\n    <tr>\n      <th>1</th>\n      <td>2013-02-11</td>\n      <td>14.89</td>\n      <td>15.01</td>\n      <td>14.26</td>\n      <td>14.46</td>\n      <td>8882000</td>\n      <td>AAL</td>\n    </tr>\n    <tr>\n      <th>2</th>\n      <td>2013-02-12</td>\n      <td>14.45</td>\n      <td>14.51</td>\n      <td>14.10</td>\n      <td>14.27</td>\n      <td>8126000</td>\n      <td>AAL</td>\n    </tr>\n    <tr>\n      <th>3</th>\n      <td>2013-02-13</td>\n      <td>14.30</td>\n      <td>14.94</td>\n      <td>14.25</td>\n      <td>14.66</td>\n      <td>10259500</td>\n      <td>AAL</td>\n    </tr>\n    <tr>\n      <th>4</th>\n      <td>2013-02-14</td>\n      <td>14.94</td>\n      <td>14.96</td>\n      <td>13.16</td>\n      <td>13.99</td>\n      <td>31879900</td>\n      <td>AAL</td>\n    </tr>\n  </tbody>\n</table>\n</div>"
     },
     "execution_count": 9,
     "metadata": {},
     "output_type": "execute_result"
    }
   ],
   "source": [
    "df.head()"
   ],
   "metadata": {
    "collapsed": false,
    "ExecuteTime": {
     "end_time": "2024-01-04T15:14:41.712736700Z",
     "start_time": "2024-01-04T15:14:41.651362400Z"
    }
   }
  },
  {
   "cell_type": "code",
   "execution_count": 10,
   "outputs": [
    {
     "data": {
      "text/plain": "                open           high            low          close  \\\ncount  619029.000000  619032.000000  619032.000000  619040.000000   \nmean       83.023334      83.778311      82.256096      83.043763   \nstd        97.378769      98.207519      96.507421      97.389748   \nmin         1.620000       1.690000       1.500000       1.590000   \n25%        40.220000      40.620000      39.830000      40.245000   \n50%        62.590000      63.150000      62.020000      62.620000   \n75%        94.370000      95.180000      93.540000      94.410000   \nmax      2044.000000    2067.990000    2035.110000    2049.000000   \n\n             volume  \ncount  6.190400e+05  \nmean   4.321823e+06  \nstd    8.693610e+06  \nmin    0.000000e+00  \n25%    1.070320e+06  \n50%    2.082094e+06  \n75%    4.284509e+06  \nmax    6.182376e+08  ",
      "text/html": "<div>\n<style scoped>\n    .dataframe tbody tr th:only-of-type {\n        vertical-align: middle;\n    }\n\n    .dataframe tbody tr th {\n        vertical-align: top;\n    }\n\n    .dataframe thead th {\n        text-align: right;\n    }\n</style>\n<table border=\"1\" class=\"dataframe\">\n  <thead>\n    <tr style=\"text-align: right;\">\n      <th></th>\n      <th>open</th>\n      <th>high</th>\n      <th>low</th>\n      <th>close</th>\n      <th>volume</th>\n    </tr>\n  </thead>\n  <tbody>\n    <tr>\n      <th>count</th>\n      <td>619029.000000</td>\n      <td>619032.000000</td>\n      <td>619032.000000</td>\n      <td>619040.000000</td>\n      <td>6.190400e+05</td>\n    </tr>\n    <tr>\n      <th>mean</th>\n      <td>83.023334</td>\n      <td>83.778311</td>\n      <td>82.256096</td>\n      <td>83.043763</td>\n      <td>4.321823e+06</td>\n    </tr>\n    <tr>\n      <th>std</th>\n      <td>97.378769</td>\n      <td>98.207519</td>\n      <td>96.507421</td>\n      <td>97.389748</td>\n      <td>8.693610e+06</td>\n    </tr>\n    <tr>\n      <th>min</th>\n      <td>1.620000</td>\n      <td>1.690000</td>\n      <td>1.500000</td>\n      <td>1.590000</td>\n      <td>0.000000e+00</td>\n    </tr>\n    <tr>\n      <th>25%</th>\n      <td>40.220000</td>\n      <td>40.620000</td>\n      <td>39.830000</td>\n      <td>40.245000</td>\n      <td>1.070320e+06</td>\n    </tr>\n    <tr>\n      <th>50%</th>\n      <td>62.590000</td>\n      <td>63.150000</td>\n      <td>62.020000</td>\n      <td>62.620000</td>\n      <td>2.082094e+06</td>\n    </tr>\n    <tr>\n      <th>75%</th>\n      <td>94.370000</td>\n      <td>95.180000</td>\n      <td>93.540000</td>\n      <td>94.410000</td>\n      <td>4.284509e+06</td>\n    </tr>\n    <tr>\n      <th>max</th>\n      <td>2044.000000</td>\n      <td>2067.990000</td>\n      <td>2035.110000</td>\n      <td>2049.000000</td>\n      <td>6.182376e+08</td>\n    </tr>\n  </tbody>\n</table>\n</div>"
     },
     "execution_count": 10,
     "metadata": {},
     "output_type": "execute_result"
    }
   ],
   "source": [
    "df.describe()"
   ],
   "metadata": {
    "collapsed": false,
    "ExecuteTime": {
     "end_time": "2024-01-04T15:14:41.993051500Z",
     "start_time": "2024-01-04T15:14:41.669850Z"
    }
   }
  }
 ],
 "metadata": {
  "kernelspec": {
   "display_name": "Python 3",
   "language": "python",
   "name": "python3"
  },
  "language_info": {
   "codemirror_mode": {
    "name": "ipython",
    "version": 2
   },
   "file_extension": ".py",
   "mimetype": "text/x-python",
   "name": "python",
   "nbconvert_exporter": "python",
   "pygments_lexer": "ipython2",
   "version": "2.7.6"
  }
 },
 "nbformat": 4,
 "nbformat_minor": 0
}
